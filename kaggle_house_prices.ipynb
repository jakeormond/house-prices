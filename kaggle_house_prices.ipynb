{
 "cells": [
  {
   "cell_type": "markdown",
   "id": "a39855b0-e0c7-437e-882c-ebaf6a5dd263",
   "metadata": {},
   "source": [
    "this code is adapted from: https://www.kaggle.com/code/apapiu/regularized-linear-models"
   ]
  },
  {
   "cell_type": "code",
   "execution_count": 11,
   "id": "2d027e17-fe7a-4cc4-8b64-849bb3d70bec",
   "metadata": {
    "tags": []
   },
   "outputs": [],
   "source": [
    "import pandas as pd\n",
    "import numpy as np\n",
    "import seaborn as sns\n",
    "import matplotlib\n",
    "\n",
    "import matplotlib.pyplot as plt\n",
    "from scipy.stats import skew\n",
    "# from scipy.stats.stats import pearsonr \n",
    "from scipy.stats import pearsonr # changed Jake 21-03-2023\n",
    "\n",
    "\n",
    "%config InlineBackend.figure_format = 'retina' #set 'png' here when working on notebook\n",
    "%matplotlib inline"
   ]
  },
  {
   "cell_type": "code",
   "execution_count": 12,
   "id": "2d122d08-30c5-4c72-87b0-6756b13171bb",
   "metadata": {},
   "outputs": [],
   "source": [
    "%config InlineBackend.figure_format = 'retina' #set 'png' here when working on notebook\n",
    "%matplotlib inline"
   ]
  },
  {
   "cell_type": "code",
   "execution_count": 13,
   "id": "e1b49ca6-9289-46fb-87a2-ecaf524edd82",
   "metadata": {},
   "outputs": [],
   "source": [
    "data_path = 'C:/Users/Jake Ormond/Documents/kaggle/house_prices'\n",
    "train = pd.read_csv(data_path + \"/train.csv\")\n",
    "test = pd.read_csv(data_path + \"/test.csv\")"
   ]
  },
  {
   "cell_type": "code",
   "execution_count": 14,
   "id": "7903677a-695a-44d1-a3f1-95ae2aedb8dc",
   "metadata": {},
   "outputs": [
    {
     "data": {
      "text/html": [
       "<div>\n",
       "<style scoped>\n",
       "    .dataframe tbody tr th:only-of-type {\n",
       "        vertical-align: middle;\n",
       "    }\n",
       "\n",
       "    .dataframe tbody tr th {\n",
       "        vertical-align: top;\n",
       "    }\n",
       "\n",
       "    .dataframe thead th {\n",
       "        text-align: right;\n",
       "    }\n",
       "</style>\n",
       "<table border=\"1\" class=\"dataframe\">\n",
       "  <thead>\n",
       "    <tr style=\"text-align: right;\">\n",
       "      <th></th>\n",
       "      <th>Id</th>\n",
       "      <th>MSSubClass</th>\n",
       "      <th>MSZoning</th>\n",
       "      <th>LotFrontage</th>\n",
       "      <th>LotArea</th>\n",
       "      <th>Street</th>\n",
       "      <th>Alley</th>\n",
       "      <th>LotShape</th>\n",
       "      <th>LandContour</th>\n",
       "      <th>Utilities</th>\n",
       "      <th>...</th>\n",
       "      <th>PoolArea</th>\n",
       "      <th>PoolQC</th>\n",
       "      <th>Fence</th>\n",
       "      <th>MiscFeature</th>\n",
       "      <th>MiscVal</th>\n",
       "      <th>MoSold</th>\n",
       "      <th>YrSold</th>\n",
       "      <th>SaleType</th>\n",
       "      <th>SaleCondition</th>\n",
       "      <th>SalePrice</th>\n",
       "    </tr>\n",
       "  </thead>\n",
       "  <tbody>\n",
       "    <tr>\n",
       "      <th>0</th>\n",
       "      <td>1</td>\n",
       "      <td>60</td>\n",
       "      <td>RL</td>\n",
       "      <td>65.0</td>\n",
       "      <td>8450</td>\n",
       "      <td>Pave</td>\n",
       "      <td>NaN</td>\n",
       "      <td>Reg</td>\n",
       "      <td>Lvl</td>\n",
       "      <td>AllPub</td>\n",
       "      <td>...</td>\n",
       "      <td>0</td>\n",
       "      <td>NaN</td>\n",
       "      <td>NaN</td>\n",
       "      <td>NaN</td>\n",
       "      <td>0</td>\n",
       "      <td>2</td>\n",
       "      <td>2008</td>\n",
       "      <td>WD</td>\n",
       "      <td>Normal</td>\n",
       "      <td>208500</td>\n",
       "    </tr>\n",
       "    <tr>\n",
       "      <th>1</th>\n",
       "      <td>2</td>\n",
       "      <td>20</td>\n",
       "      <td>RL</td>\n",
       "      <td>80.0</td>\n",
       "      <td>9600</td>\n",
       "      <td>Pave</td>\n",
       "      <td>NaN</td>\n",
       "      <td>Reg</td>\n",
       "      <td>Lvl</td>\n",
       "      <td>AllPub</td>\n",
       "      <td>...</td>\n",
       "      <td>0</td>\n",
       "      <td>NaN</td>\n",
       "      <td>NaN</td>\n",
       "      <td>NaN</td>\n",
       "      <td>0</td>\n",
       "      <td>5</td>\n",
       "      <td>2007</td>\n",
       "      <td>WD</td>\n",
       "      <td>Normal</td>\n",
       "      <td>181500</td>\n",
       "    </tr>\n",
       "    <tr>\n",
       "      <th>2</th>\n",
       "      <td>3</td>\n",
       "      <td>60</td>\n",
       "      <td>RL</td>\n",
       "      <td>68.0</td>\n",
       "      <td>11250</td>\n",
       "      <td>Pave</td>\n",
       "      <td>NaN</td>\n",
       "      <td>IR1</td>\n",
       "      <td>Lvl</td>\n",
       "      <td>AllPub</td>\n",
       "      <td>...</td>\n",
       "      <td>0</td>\n",
       "      <td>NaN</td>\n",
       "      <td>NaN</td>\n",
       "      <td>NaN</td>\n",
       "      <td>0</td>\n",
       "      <td>9</td>\n",
       "      <td>2008</td>\n",
       "      <td>WD</td>\n",
       "      <td>Normal</td>\n",
       "      <td>223500</td>\n",
       "    </tr>\n",
       "    <tr>\n",
       "      <th>3</th>\n",
       "      <td>4</td>\n",
       "      <td>70</td>\n",
       "      <td>RL</td>\n",
       "      <td>60.0</td>\n",
       "      <td>9550</td>\n",
       "      <td>Pave</td>\n",
       "      <td>NaN</td>\n",
       "      <td>IR1</td>\n",
       "      <td>Lvl</td>\n",
       "      <td>AllPub</td>\n",
       "      <td>...</td>\n",
       "      <td>0</td>\n",
       "      <td>NaN</td>\n",
       "      <td>NaN</td>\n",
       "      <td>NaN</td>\n",
       "      <td>0</td>\n",
       "      <td>2</td>\n",
       "      <td>2006</td>\n",
       "      <td>WD</td>\n",
       "      <td>Abnorml</td>\n",
       "      <td>140000</td>\n",
       "    </tr>\n",
       "    <tr>\n",
       "      <th>4</th>\n",
       "      <td>5</td>\n",
       "      <td>60</td>\n",
       "      <td>RL</td>\n",
       "      <td>84.0</td>\n",
       "      <td>14260</td>\n",
       "      <td>Pave</td>\n",
       "      <td>NaN</td>\n",
       "      <td>IR1</td>\n",
       "      <td>Lvl</td>\n",
       "      <td>AllPub</td>\n",
       "      <td>...</td>\n",
       "      <td>0</td>\n",
       "      <td>NaN</td>\n",
       "      <td>NaN</td>\n",
       "      <td>NaN</td>\n",
       "      <td>0</td>\n",
       "      <td>12</td>\n",
       "      <td>2008</td>\n",
       "      <td>WD</td>\n",
       "      <td>Normal</td>\n",
       "      <td>250000</td>\n",
       "    </tr>\n",
       "  </tbody>\n",
       "</table>\n",
       "<p>5 rows × 81 columns</p>\n",
       "</div>"
      ],
      "text/plain": [
       "   Id  MSSubClass MSZoning  LotFrontage  LotArea Street Alley LotShape  \\\n",
       "0   1          60       RL         65.0     8450   Pave   NaN      Reg   \n",
       "1   2          20       RL         80.0     9600   Pave   NaN      Reg   \n",
       "2   3          60       RL         68.0    11250   Pave   NaN      IR1   \n",
       "3   4          70       RL         60.0     9550   Pave   NaN      IR1   \n",
       "4   5          60       RL         84.0    14260   Pave   NaN      IR1   \n",
       "\n",
       "  LandContour Utilities  ... PoolArea PoolQC Fence MiscFeature MiscVal MoSold  \\\n",
       "0         Lvl    AllPub  ...        0    NaN   NaN         NaN       0      2   \n",
       "1         Lvl    AllPub  ...        0    NaN   NaN         NaN       0      5   \n",
       "2         Lvl    AllPub  ...        0    NaN   NaN         NaN       0      9   \n",
       "3         Lvl    AllPub  ...        0    NaN   NaN         NaN       0      2   \n",
       "4         Lvl    AllPub  ...        0    NaN   NaN         NaN       0     12   \n",
       "\n",
       "  YrSold  SaleType  SaleCondition  SalePrice  \n",
       "0   2008        WD         Normal     208500  \n",
       "1   2007        WD         Normal     181500  \n",
       "2   2008        WD         Normal     223500  \n",
       "3   2006        WD        Abnorml     140000  \n",
       "4   2008        WD         Normal     250000  \n",
       "\n",
       "[5 rows x 81 columns]"
      ]
     },
     "execution_count": 14,
     "metadata": {},
     "output_type": "execute_result"
    }
   ],
   "source": [
    "train.head()"
   ]
  },
  {
   "cell_type": "markdown",
   "id": "38d308f1-b348-49f9-981c-7a2994eefd12",
   "metadata": {
    "tags": []
   },
   "source": [
    "### The price data needs to be log transformed\n",
    "A plot of the price data shows that it is skewed. Log transfroming the data produces a more normal distribution. Note that the prices variable is only generated here for the purpose of plotting the two distributions side by side."
   ]
  },
  {
   "cell_type": "code",
   "execution_count": 18,
   "id": "ddd55dd9-0249-44e9-b520-a1fec1ebb647",
   "metadata": {},
   "outputs": [
    {
     "data": {
      "text/plain": [
       "array([[<Axes: title={'center': 'price'}>,\n",
       "        <Axes: title={'center': 'log(price)'}>]], dtype=object)"
      ]
     },
     "execution_count": 18,
     "metadata": {},
     "output_type": "execute_result"
    },
    {
     "data": {
      "image/png": "[encoded data removed]",
      "text/plain": [
       "<Figure size 1200x600 with 2 Axes>"
      ]
     },
     "metadata": {
      "image/png": {
       "height": 527,
       "width": 986
      }
     },
     "output_type": "display_data"
    }
   ],
   "source": [
    "matplotlib.rcParams['figure.figsize'] = (12.0, 6.0)\n",
    "prices = pd.DataFrame({\"price\":train[\"SalePrice\"], \"log(price)\":np.log(train[\"SalePrice\"])})\n",
    "prices.hist()\n",
    "# the original author used log(x+1) (function is np.log1p), but regular log is sufficient here (no values close to 0)"
   ]
  },
  {
   "cell_type": "markdown",
   "id": "8bc2957a-11dd-40e3-8ccf-2d05c6c806f1",
   "metadata": {},
   "source": [
    "Command df.dtypes outputs the data types of all data frame columns.\n"
   ]
  },
  {
   "cell_type": "code",
   "execution_count": 30,
   "id": "2e72f9e4-962c-4987-97bf-6d82809cd714",
   "metadata": {
    "tags": []
   },
   "outputs": [],
   "source": [
    "#log transform the target:\n",
    "train[\"SalePrice\"] = np.log(train[\"SalePrice\"]) # this is same data as above\n",
    "\n"
   ]
  },
  {
   "cell_type": "markdown",
   "id": "45f507b5-4904-48d4-9b79-fec9b7f8c29d",
   "metadata": {},
   "source": [
    "The original author combined training and test data to calculate combined means for the purpose of filling in NaN and/or missing values. This is INCORRECT, as it causes data leakage from test into train. A better approach (though I'm not sure if it is the best, or even a good idea) is to calculate mean just from training, save the value, and apply it to test."
   ]
  },
  {
   "cell_type": "code",
   "execution_count": 47,
   "id": "20a7ee36-e6af-4180-9879-75bbcbc7cf23",
   "metadata": {},
   "outputs": [
    {
     "name": "stdout",
     "output_type": "stream",
     "text": [
      "MSSubClass        1.406210\n",
      "LotFrontage       2.160866\n",
      "LotArea          12.195142\n",
      "OverallQual       0.216721\n",
      "OverallCond       0.692355\n",
      "YearBuilt        -0.612831\n",
      "YearRemodAdd     -0.503044\n",
      "MasVnrArea        2.666326\n",
      "BsmtFinSF1        1.683771\n",
      "BsmtFinSF2        4.250888\n",
      "BsmtUnfSF         0.919323\n",
      "TotalBsmtSF       1.522688\n",
      "1stFlrSF          1.375342\n",
      "2ndFlrSF          0.812194\n",
      "LowQualFinSF      9.002080\n",
      "GrLivArea         1.365156\n",
      "BsmtFullBath      0.595454\n",
      "BsmtHalfBath      4.099186\n",
      "FullBath          0.036524\n",
      "HalfBath          0.675203\n",
      "BedroomAbvGr      0.211572\n",
      "KitchenAbvGr      4.483784\n",
      "TotRmsAbvGrd      0.675646\n",
      "Fireplaces        0.648898\n",
      "GarageYrBlt      -0.648708\n",
      "GarageCars       -0.342197\n",
      "GarageArea        0.179796\n",
      "WoodDeckSF        1.539792\n",
      "OpenPorchSF       2.361912\n",
      "EnclosedPorch     3.086696\n",
      "3SsnPorch        10.293752\n",
      "ScreenPorch       4.117977\n",
      "PoolArea         14.813135\n",
      "MiscVal          24.451640\n",
      "MoSold            0.211835\n",
      "YrSold            0.096170\n",
      "dtype: float64\n"
     ]
    }
   ],
   "source": [
    "# all_data = pd.concat((train.loc[:,'MSSubClass':'SaleCondition'], \n",
    "#                    test.loc[:,'MSSubClass':'SaleCondition']))\n",
    "# pandas.DataFrame.loc: Access a group of rows and columns by label(s) or a boolean array.\n",
    "all_data = train.loc[:, 'MSSubClass':'SaleCondition']\n",
    "\n",
    "# get just the numeric features\n",
    "numeric_feats = all_data.dtypes[all_data.dtypes != \"object\"].index\n",
    "\n",
    "# compute skewness\n",
    "skewed_feats = train[numeric_feats].apply(lambda x: skew(x.dropna()))\n",
    "print(skewed_feats)\n",
    "#log transform skewed numeric features:\n",
    "\n",
    "\n"
   ]
  },
  {
   "cell_type": "code",
   "execution_count": null,
   "id": "1f7aa5d9-fcc6-4929-b0b3-14533a4ca4c3",
   "metadata": {},
   "outputs": [],
   "source": []
  }
 ],
 "metadata": {
  "kernelspec": {
   "display_name": "Python 3 (ipykernel)",
   "language": "python",
   "name": "python3"
  },
  "language_info": {
   "codemirror_mode": {
    "name": "ipython",
    "version": 3
   },
   "file_extension": ".py",
   "mimetype": "text/x-python",
   "name": "python",
   "nbconvert_exporter": "python",
   "pygments_lexer": "ipython3",
   "version": "3.10.9"
  },
  "toc-autonumbering": false,
  "toc-showcode": false,
  "toc-showmarkdowntxt": true,
  "toc-showtags": false
 },
 "nbformat": 4,
 "nbformat_minor": 5
}
